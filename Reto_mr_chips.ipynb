{
  "nbformat": 4,
  "nbformat_minor": 0,
  "metadata": {
    "colab": {
      "provenance": [],
      "authorship_tag": "ABX9TyO902ThOrYR/sh8k7OPZdIB",
      "include_colab_link": true
    },
    "kernelspec": {
      "name": "python3",
      "display_name": "Python 3"
    },
    "language_info": {
      "name": "python"
    }
  },
  "cells": [
    {
      "cell_type": "markdown",
      "metadata": {
        "id": "view-in-github",
        "colab_type": "text"
      },
      "source": [
        "<a href=\"https://colab.research.google.com/github/N1colasFD/Data_science_aplicada_reto_twitter/blob/main/Reto_mr_chips.ipynb\" target=\"_parent\"><img src=\"https://colab.research.google.com/assets/colab-badge.svg\" alt=\"Open In Colab\"/></a>"
      ]
    },
    {
      "cell_type": "markdown",
      "source": [
        "# Aplicando Data science a este reto"
      ],
      "metadata": {
        "id": "eclg3qeCvM2Y"
      }
    },
    {
      "cell_type": "markdown",
      "source": [
        "Imagina 50.000 goles almacenados así\n",
        "\n",
        "Busco la pareja goleador-asistente que más veces le marcó a un mismo portero de un mismo equipo\n",
        "\n"
      ],
      "metadata": {
        "id": "Kh3iV0Jevga7"
      }
    },
    {
      "cell_type": "code",
      "execution_count": 9,
      "metadata": {
        "colab": {
          "base_uri": "https://localhost:8080/"
        },
        "id": "cS-sK4A3u8HC",
        "outputId": "bc071ef2-ea29-45d5-e55c-0e6193cb9eba"
      },
      "outputs": [
        {
          "output_type": "stream",
          "name": "stdout",
          "text": [
            "Drive already mounted at /content/drive/; to attempt to forcibly remount, call drive.mount(\"/content/drive/\", force_remount=True).\n"
          ]
        }
      ],
      "source": [
        "#importacion archivo\n",
        "from google.colab import drive\n",
        "drive.mount('/content/drive/')"
      ]
    },
    {
      "cell_type": "code",
      "source": [
        "import pandas as pd"
      ],
      "metadata": {
        "id": "-XoNTbFexApv"
      },
      "execution_count": 10,
      "outputs": []
    },
    {
      "cell_type": "code",
      "source": [
        "%matplotlib inline\n",
        "pd.options.display.min_rows = 4"
      ],
      "metadata": {
        "id": "w6xmZQ5-xcTb"
      },
      "execution_count": 12,
      "outputs": []
    },
    {
      "cell_type": "code",
      "source": [
        "df = pd.read_excel('/content/drive/MyDrive/Programacion/Bases de datos/Reto_mr_chips_twitter.xlsx')\n",
        "df.head(6)"
      ],
      "metadata": {
        "colab": {
          "base_uri": "https://localhost:8080/",
          "height": 237
        },
        "id": "BX9fNs8ywwa3",
        "outputId": "9a20682d-1c66-4331-8046-5798cd1753fc"
      },
      "execution_count": 13,
      "outputs": [
        {
          "output_type": "execute_result",
          "data": {
            "text/plain": [
              "   ID GOL      GOLEADOR    club_goledor     asistencia      portero  \\\n",
              "0    9459         DZEKO     lnter Milan    CORREA, CJ.   STANEK, J.   \n",
              "1    9460  DUMFRIES, D.     lnter Milan          DZEKO   STANEK, J.   \n",
              "2    9461   PAULINHO J.     Sporting CP  GONCALVES, P.       LLORIS   \n",
              "3    9462  ARTHUR GOMES     Sporting CP            NaN       LLORIS   \n",
              "4    9463    JUTGLA, F.  Club Brugge KV            NaN  DIOGO COSTA   \n",
              "5    9464         SALAH    Liverpool FC       JOTA, D.  PASVEER, R.   \n",
              "\n",
              "           club_portero  \n",
              "0     FC Viktoria Plzen  \n",
              "1     FC Viktoria Plzen  \n",
              "2  Tottenham Hotspur FC  \n",
              "3  Tottenham Hotspur FC  \n",
              "4              FC Porto  \n",
              "5              AFC Ajax  "
            ],
            "text/html": [
              "\n",
              "  <div id=\"df-26637ad3-4b68-4aa7-a131-4b36066f5c36\">\n",
              "    <div class=\"colab-df-container\">\n",
              "      <div>\n",
              "<style scoped>\n",
              "    .dataframe tbody tr th:only-of-type {\n",
              "        vertical-align: middle;\n",
              "    }\n",
              "\n",
              "    .dataframe tbody tr th {\n",
              "        vertical-align: top;\n",
              "    }\n",
              "\n",
              "    .dataframe thead th {\n",
              "        text-align: right;\n",
              "    }\n",
              "</style>\n",
              "<table border=\"1\" class=\"dataframe\">\n",
              "  <thead>\n",
              "    <tr style=\"text-align: right;\">\n",
              "      <th></th>\n",
              "      <th>ID GOL</th>\n",
              "      <th>GOLEADOR</th>\n",
              "      <th>club_goledor</th>\n",
              "      <th>asistencia</th>\n",
              "      <th>portero</th>\n",
              "      <th>club_portero</th>\n",
              "    </tr>\n",
              "  </thead>\n",
              "  <tbody>\n",
              "    <tr>\n",
              "      <th>0</th>\n",
              "      <td>9459</td>\n",
              "      <td>DZEKO</td>\n",
              "      <td>lnter Milan</td>\n",
              "      <td>CORREA, CJ.</td>\n",
              "      <td>STANEK, J.</td>\n",
              "      <td>FC Viktoria Plzen</td>\n",
              "    </tr>\n",
              "    <tr>\n",
              "      <th>1</th>\n",
              "      <td>9460</td>\n",
              "      <td>DUMFRIES, D.</td>\n",
              "      <td>lnter Milan</td>\n",
              "      <td>DZEKO</td>\n",
              "      <td>STANEK, J.</td>\n",
              "      <td>FC Viktoria Plzen</td>\n",
              "    </tr>\n",
              "    <tr>\n",
              "      <th>2</th>\n",
              "      <td>9461</td>\n",
              "      <td>PAULINHO J.</td>\n",
              "      <td>Sporting CP</td>\n",
              "      <td>GONCALVES, P.</td>\n",
              "      <td>LLORIS</td>\n",
              "      <td>Tottenham Hotspur FC</td>\n",
              "    </tr>\n",
              "    <tr>\n",
              "      <th>3</th>\n",
              "      <td>9462</td>\n",
              "      <td>ARTHUR GOMES</td>\n",
              "      <td>Sporting CP</td>\n",
              "      <td>NaN</td>\n",
              "      <td>LLORIS</td>\n",
              "      <td>Tottenham Hotspur FC</td>\n",
              "    </tr>\n",
              "    <tr>\n",
              "      <th>4</th>\n",
              "      <td>9463</td>\n",
              "      <td>JUTGLA, F.</td>\n",
              "      <td>Club Brugge KV</td>\n",
              "      <td>NaN</td>\n",
              "      <td>DIOGO COSTA</td>\n",
              "      <td>FC Porto</td>\n",
              "    </tr>\n",
              "    <tr>\n",
              "      <th>5</th>\n",
              "      <td>9464</td>\n",
              "      <td>SALAH</td>\n",
              "      <td>Liverpool FC</td>\n",
              "      <td>JOTA, D.</td>\n",
              "      <td>PASVEER, R.</td>\n",
              "      <td>AFC Ajax</td>\n",
              "    </tr>\n",
              "  </tbody>\n",
              "</table>\n",
              "</div>\n",
              "      <button class=\"colab-df-convert\" onclick=\"convertToInteractive('df-26637ad3-4b68-4aa7-a131-4b36066f5c36')\"\n",
              "              title=\"Convert this dataframe to an interactive table.\"\n",
              "              style=\"display:none;\">\n",
              "        \n",
              "  <svg xmlns=\"http://www.w3.org/2000/svg\" height=\"24px\"viewBox=\"0 0 24 24\"\n",
              "       width=\"24px\">\n",
              "    <path d=\"M0 0h24v24H0V0z\" fill=\"none\"/>\n",
              "    <path d=\"M18.56 5.44l.94 2.06.94-2.06 2.06-.94-2.06-.94-.94-2.06-.94 2.06-2.06.94zm-11 1L8.5 8.5l.94-2.06 2.06-.94-2.06-.94L8.5 2.5l-.94 2.06-2.06.94zm10 10l.94 2.06.94-2.06 2.06-.94-2.06-.94-.94-2.06-.94 2.06-2.06.94z\"/><path d=\"M17.41 7.96l-1.37-1.37c-.4-.4-.92-.59-1.43-.59-.52 0-1.04.2-1.43.59L10.3 9.45l-7.72 7.72c-.78.78-.78 2.05 0 2.83L4 21.41c.39.39.9.59 1.41.59.51 0 1.02-.2 1.41-.59l7.78-7.78 2.81-2.81c.8-.78.8-2.07 0-2.86zM5.41 20L4 18.59l7.72-7.72 1.47 1.35L5.41 20z\"/>\n",
              "  </svg>\n",
              "      </button>\n",
              "      \n",
              "  <style>\n",
              "    .colab-df-container {\n",
              "      display:flex;\n",
              "      flex-wrap:wrap;\n",
              "      gap: 12px;\n",
              "    }\n",
              "\n",
              "    .colab-df-convert {\n",
              "      background-color: #E8F0FE;\n",
              "      border: none;\n",
              "      border-radius: 50%;\n",
              "      cursor: pointer;\n",
              "      display: none;\n",
              "      fill: #1967D2;\n",
              "      height: 32px;\n",
              "      padding: 0 0 0 0;\n",
              "      width: 32px;\n",
              "    }\n",
              "\n",
              "    .colab-df-convert:hover {\n",
              "      background-color: #E2EBFA;\n",
              "      box-shadow: 0px 1px 2px rgba(60, 64, 67, 0.3), 0px 1px 3px 1px rgba(60, 64, 67, 0.15);\n",
              "      fill: #174EA6;\n",
              "    }\n",
              "\n",
              "    [theme=dark] .colab-df-convert {\n",
              "      background-color: #3B4455;\n",
              "      fill: #D2E3FC;\n",
              "    }\n",
              "\n",
              "    [theme=dark] .colab-df-convert:hover {\n",
              "      background-color: #434B5C;\n",
              "      box-shadow: 0px 1px 3px 1px rgba(0, 0, 0, 0.15);\n",
              "      filter: drop-shadow(0px 1px 2px rgba(0, 0, 0, 0.3));\n",
              "      fill: #FFFFFF;\n",
              "    }\n",
              "  </style>\n",
              "\n",
              "      <script>\n",
              "        const buttonEl =\n",
              "          document.querySelector('#df-26637ad3-4b68-4aa7-a131-4b36066f5c36 button.colab-df-convert');\n",
              "        buttonEl.style.display =\n",
              "          google.colab.kernel.accessAllowed ? 'block' : 'none';\n",
              "\n",
              "        async function convertToInteractive(key) {\n",
              "          const element = document.querySelector('#df-26637ad3-4b68-4aa7-a131-4b36066f5c36');\n",
              "          const dataTable =\n",
              "            await google.colab.kernel.invokeFunction('convertToInteractive',\n",
              "                                                     [key], {});\n",
              "          if (!dataTable) return;\n",
              "\n",
              "          const docLinkHtml = 'Like what you see? Visit the ' +\n",
              "            '<a target=\"_blank\" href=https://colab.research.google.com/notebooks/data_table.ipynb>data table notebook</a>'\n",
              "            + ' to learn more about interactive tables.';\n",
              "          element.innerHTML = '';\n",
              "          dataTable['output_type'] = 'display_data';\n",
              "          await google.colab.output.renderOutput(dataTable, element);\n",
              "          const docLink = document.createElement('div');\n",
              "          docLink.innerHTML = docLinkHtml;\n",
              "          element.appendChild(docLink);\n",
              "        }\n",
              "      </script>\n",
              "    </div>\n",
              "  </div>\n",
              "  "
            ]
          },
          "metadata": {},
          "execution_count": 13
        }
      ]
    },
    {
      "cell_type": "markdown",
      "source": [
        "Como la tabla solo tiene 40 registros, realizaremos un codigo para aumentar aleatoriamente los datos a 50.000 ⚾"
      ],
      "metadata": {
        "id": "ViRrffY-y_lf"
      }
    },
    {
      "cell_type": "code",
      "source": [
        "df.info()"
      ],
      "metadata": {
        "colab": {
          "base_uri": "https://localhost:8080/"
        },
        "id": "Fpamybzuzrbp",
        "outputId": "9d9e0ea0-c6b3-4cd9-96c4-00ec0257409f"
      },
      "execution_count": 14,
      "outputs": [
        {
          "output_type": "stream",
          "name": "stdout",
          "text": [
            "<class 'pandas.core.frame.DataFrame'>\n",
            "RangeIndex: 41 entries, 0 to 40\n",
            "Data columns (total 6 columns):\n",
            " #   Column        Non-Null Count  Dtype \n",
            "---  ------        --------------  ----- \n",
            " 0   ID GOL        41 non-null     int64 \n",
            " 1   GOLEADOR      41 non-null     object\n",
            " 2   club_goledor  41 non-null     object\n",
            " 3   asistencia    32 non-null     object\n",
            " 4   portero       41 non-null     object\n",
            " 5   club_portero  41 non-null     object\n",
            "dtypes: int64(1), object(5)\n",
            "memory usage: 2.0+ KB\n"
          ]
        }
      ]
    },
    {
      "cell_type": "code",
      "source": [
        "#1. Renombremos unas variables\n",
        "df.rename(columns = {'ID GOL':'id_gol',\n",
        "          'GOLEADOR':'goleador'}, inplace = True)\n",
        "\n",
        "#podriamos usar Janitor, pero no son muchas variables, asi pues usaremos un metodo mas 'simple' "
      ],
      "metadata": {
        "id": "q3ryZm4-wpo-"
      },
      "execution_count": 15,
      "outputs": []
    },
    {
      "cell_type": "code",
      "source": [
        "df.head(2)"
      ],
      "metadata": {
        "colab": {
          "base_uri": "https://localhost:8080/",
          "height": 112
        },
        "id": "xBT3_4bsz7h8",
        "outputId": "bebc7bb5-367c-4f24-e4a4-378a888b9250"
      },
      "execution_count": 17,
      "outputs": [
        {
          "output_type": "execute_result",
          "data": {
            "text/plain": [
              "   id_gol      goleador club_goledor   asistencia     portero  \\\n",
              "0    9459         DZEKO  lnter Milan  CORREA, CJ.  STANEK, J.   \n",
              "1    9460  DUMFRIES, D.  lnter Milan        DZEKO  STANEK, J.   \n",
              "\n",
              "        club_portero  \n",
              "0  FC Viktoria Plzen  \n",
              "1  FC Viktoria Plzen  "
            ],
            "text/html": [
              "\n",
              "  <div id=\"df-68ca05ea-307f-4d76-9bc6-6b0f6c63d0b9\">\n",
              "    <div class=\"colab-df-container\">\n",
              "      <div>\n",
              "<style scoped>\n",
              "    .dataframe tbody tr th:only-of-type {\n",
              "        vertical-align: middle;\n",
              "    }\n",
              "\n",
              "    .dataframe tbody tr th {\n",
              "        vertical-align: top;\n",
              "    }\n",
              "\n",
              "    .dataframe thead th {\n",
              "        text-align: right;\n",
              "    }\n",
              "</style>\n",
              "<table border=\"1\" class=\"dataframe\">\n",
              "  <thead>\n",
              "    <tr style=\"text-align: right;\">\n",
              "      <th></th>\n",
              "      <th>id_gol</th>\n",
              "      <th>goleador</th>\n",
              "      <th>club_goledor</th>\n",
              "      <th>asistencia</th>\n",
              "      <th>portero</th>\n",
              "      <th>club_portero</th>\n",
              "    </tr>\n",
              "  </thead>\n",
              "  <tbody>\n",
              "    <tr>\n",
              "      <th>0</th>\n",
              "      <td>9459</td>\n",
              "      <td>DZEKO</td>\n",
              "      <td>lnter Milan</td>\n",
              "      <td>CORREA, CJ.</td>\n",
              "      <td>STANEK, J.</td>\n",
              "      <td>FC Viktoria Plzen</td>\n",
              "    </tr>\n",
              "    <tr>\n",
              "      <th>1</th>\n",
              "      <td>9460</td>\n",
              "      <td>DUMFRIES, D.</td>\n",
              "      <td>lnter Milan</td>\n",
              "      <td>DZEKO</td>\n",
              "      <td>STANEK, J.</td>\n",
              "      <td>FC Viktoria Plzen</td>\n",
              "    </tr>\n",
              "  </tbody>\n",
              "</table>\n",
              "</div>\n",
              "      <button class=\"colab-df-convert\" onclick=\"convertToInteractive('df-68ca05ea-307f-4d76-9bc6-6b0f6c63d0b9')\"\n",
              "              title=\"Convert this dataframe to an interactive table.\"\n",
              "              style=\"display:none;\">\n",
              "        \n",
              "  <svg xmlns=\"http://www.w3.org/2000/svg\" height=\"24px\"viewBox=\"0 0 24 24\"\n",
              "       width=\"24px\">\n",
              "    <path d=\"M0 0h24v24H0V0z\" fill=\"none\"/>\n",
              "    <path d=\"M18.56 5.44l.94 2.06.94-2.06 2.06-.94-2.06-.94-.94-2.06-.94 2.06-2.06.94zm-11 1L8.5 8.5l.94-2.06 2.06-.94-2.06-.94L8.5 2.5l-.94 2.06-2.06.94zm10 10l.94 2.06.94-2.06 2.06-.94-2.06-.94-.94-2.06-.94 2.06-2.06.94z\"/><path d=\"M17.41 7.96l-1.37-1.37c-.4-.4-.92-.59-1.43-.59-.52 0-1.04.2-1.43.59L10.3 9.45l-7.72 7.72c-.78.78-.78 2.05 0 2.83L4 21.41c.39.39.9.59 1.41.59.51 0 1.02-.2 1.41-.59l7.78-7.78 2.81-2.81c.8-.78.8-2.07 0-2.86zM5.41 20L4 18.59l7.72-7.72 1.47 1.35L5.41 20z\"/>\n",
              "  </svg>\n",
              "      </button>\n",
              "      \n",
              "  <style>\n",
              "    .colab-df-container {\n",
              "      display:flex;\n",
              "      flex-wrap:wrap;\n",
              "      gap: 12px;\n",
              "    }\n",
              "\n",
              "    .colab-df-convert {\n",
              "      background-color: #E8F0FE;\n",
              "      border: none;\n",
              "      border-radius: 50%;\n",
              "      cursor: pointer;\n",
              "      display: none;\n",
              "      fill: #1967D2;\n",
              "      height: 32px;\n",
              "      padding: 0 0 0 0;\n",
              "      width: 32px;\n",
              "    }\n",
              "\n",
              "    .colab-df-convert:hover {\n",
              "      background-color: #E2EBFA;\n",
              "      box-shadow: 0px 1px 2px rgba(60, 64, 67, 0.3), 0px 1px 3px 1px rgba(60, 64, 67, 0.15);\n",
              "      fill: #174EA6;\n",
              "    }\n",
              "\n",
              "    [theme=dark] .colab-df-convert {\n",
              "      background-color: #3B4455;\n",
              "      fill: #D2E3FC;\n",
              "    }\n",
              "\n",
              "    [theme=dark] .colab-df-convert:hover {\n",
              "      background-color: #434B5C;\n",
              "      box-shadow: 0px 1px 3px 1px rgba(0, 0, 0, 0.15);\n",
              "      filter: drop-shadow(0px 1px 2px rgba(0, 0, 0, 0.3));\n",
              "      fill: #FFFFFF;\n",
              "    }\n",
              "  </style>\n",
              "\n",
              "      <script>\n",
              "        const buttonEl =\n",
              "          document.querySelector('#df-68ca05ea-307f-4d76-9bc6-6b0f6c63d0b9 button.colab-df-convert');\n",
              "        buttonEl.style.display =\n",
              "          google.colab.kernel.accessAllowed ? 'block' : 'none';\n",
              "\n",
              "        async function convertToInteractive(key) {\n",
              "          const element = document.querySelector('#df-68ca05ea-307f-4d76-9bc6-6b0f6c63d0b9');\n",
              "          const dataTable =\n",
              "            await google.colab.kernel.invokeFunction('convertToInteractive',\n",
              "                                                     [key], {});\n",
              "          if (!dataTable) return;\n",
              "\n",
              "          const docLinkHtml = 'Like what you see? Visit the ' +\n",
              "            '<a target=\"_blank\" href=https://colab.research.google.com/notebooks/data_table.ipynb>data table notebook</a>'\n",
              "            + ' to learn more about interactive tables.';\n",
              "          element.innerHTML = '';\n",
              "          dataTable['output_type'] = 'display_data';\n",
              "          await google.colab.output.renderOutput(dataTable, element);\n",
              "          const docLink = document.createElement('div');\n",
              "          docLink.innerHTML = docLinkHtml;\n",
              "          element.appendChild(docLink);\n",
              "        }\n",
              "      </script>\n",
              "    </div>\n",
              "  </div>\n",
              "  "
            ]
          },
          "metadata": {},
          "execution_count": 17
        }
      ]
    }
  ]
}